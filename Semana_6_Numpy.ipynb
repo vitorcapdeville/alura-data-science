{
  "nbformat": 4,
  "nbformat_minor": 0,
  "metadata": {
    "colab": {
      "provenance": [],
      "authorship_tag": "ABX9TyOqBuvdLHRQZsd6evSSvBpU",
      "include_colab_link": true
    },
    "kernelspec": {
      "name": "python3",
      "display_name": "Python 3"
    },
    "language_info": {
      "name": "python"
    }
  },
  "cells": [
    {
      "cell_type": "markdown",
      "metadata": {
        "id": "view-in-github",
        "colab_type": "text"
      },
      "source": [
        "<a href=\"https://colab.research.google.com/github/vitorcapdeville/alura-data-science/blob/main/Semana_6_Numpy.ipynb\" target=\"_parent\"><img src=\"https://colab.research.google.com/assets/colab-badge.svg\" alt=\"Open In Colab\"/></a>"
      ]
    },
    {
      "cell_type": "code",
      "execution_count": 1,
      "metadata": {
        "id": "gcpWb56EpMfC"
      },
      "outputs": [],
      "source": [
        "import numpy as np"
      ]
    },
    {
      "cell_type": "markdown",
      "source": [
        "Gerar dados aleatórios usando np.random"
      ],
      "metadata": {
        "id": "Tcknx4pSslKz"
      }
    },
    {
      "cell_type": "code",
      "source": [
        "rng = np.random.default_rng(12345)\n",
        "size = 100\n",
        "id = np.arange(size)\n",
        "idade = rng.integers(low = 18, high = 120, size = size)\n",
        "sexo = rng.choice([\"F\", \"M\"], size = size)\n",
        "estado_civil = rng.choice([\"solteiro\", \"casado\", \"divorciado\", \"viuvo\"], size = size)\n",
        "sinistros = rng.poisson(3, size = size)\n",
        "premio = np.exp(rng.normal(5, 3, size))"
      ],
      "metadata": {
        "id": "XoEALbPJpYm-"
      },
      "execution_count": 2,
      "outputs": []
    },
    {
      "cell_type": "markdown",
      "source": [
        "Clientes com mais do que 30 anos."
      ],
      "metadata": {
        "id": "-1KjznJWsiVs"
      }
    },
    {
      "cell_type": "code",
      "source": [
        "idade[idade > 30].size"
      ],
      "metadata": {
        "colab": {
          "base_uri": "https://localhost:8080/"
        },
        "id": "b3j-Djn6seTY",
        "outputId": "a4b4a500-5705-429c-fb1f-507dfa543238"
      },
      "execution_count": 3,
      "outputs": [
        {
          "output_type": "execute_result",
          "data": {
            "text/plain": [
              "89"
            ]
          },
          "metadata": {},
          "execution_count": 3
        }
      ]
    },
    {
      "cell_type": "code",
      "source": [
        "id[np.logical_and(premio > 1000, sinistros == 0)]"
      ],
      "metadata": {
        "colab": {
          "base_uri": "https://localhost:8080/"
        },
        "id": "Vt4D5tu7srFv",
        "outputId": "47418eb1-4a49-4ffb-dfdd-834048efb277"
      },
      "execution_count": 4,
      "outputs": [
        {
          "output_type": "execute_result",
          "data": {
            "text/plain": [
              "array([56])"
            ]
          },
          "metadata": {},
          "execution_count": 4
        }
      ]
    },
    {
      "cell_type": "code",
      "source": [
        "idade"
      ],
      "metadata": {
        "colab": {
          "base_uri": "https://localhost:8080/"
        },
        "id": "46nz8JOUuIob",
        "outputId": "0b4347a9-e5e6-446f-bb70-9f351dd0e5fc"
      },
      "execution_count": 5,
      "outputs": [
        {
          "output_type": "execute_result",
          "data": {
            "text/plain": [
              "array([ 89,  41,  98,  50,  38,  99,  83,  86, 118,  57, 103,  51,  75,\n",
              "        79,  39,  37,  41,  86,  80, 114,  90,  43, 111, 114,  92,  86,\n",
              "        31,  27,  45,  63,  25, 108,  66,  89,  39,  51,  29,  92,  96,\n",
              "        40,  90,  26,  57,  34,  93,  52,  66,  65,  66,  45,  74, 101,\n",
              "        68,  37,  20,  31,  26,  27,  30,  79, 100, 105,  84,  79,  51,\n",
              "       113,  83,  91,  92, 105,  89, 112,  73,  73,  43, 113,  74,  68,\n",
              "        50,  45,  82,  64,  75,  85, 109,  51,  87, 110,  64,  44,  47,\n",
              "        52,  82,  44, 103,  54,  24,  18,  20,  82])"
            ]
          },
          "metadata": {},
          "execution_count": 5
        }
      ]
    },
    {
      "cell_type": "code",
      "source": [
        "categorizacao = np.digitize(idade, bins = [18, 31, 46, 61])\n",
        "faixas = {\n",
        "    1: \"Faixa etária 18-30\",\n",
        "    2: \"Faixa etária 31-45\",\n",
        "    3: \"Faixa etária 46-60\",\n",
        "    4: \"Faixa etária mais de 60\"\n",
        "}\n",
        "faixa_etaria = np.vectorize(faixas.get)(categorizacao)"
      ],
      "metadata": {
        "id": "RXGX08Jvs1JP"
      },
      "execution_count": 6,
      "outputs": []
    },
    {
      "cell_type": "code",
      "source": [
        "for value, counts in zip(*np.unique(faixa_etaria, return_counts=True)):\n",
        "  print(f\"{value}: {counts}\")"
      ],
      "metadata": {
        "colab": {
          "base_uri": "https://localhost:8080/"
        },
        "id": "qc6mdTnluz3S",
        "outputId": "65ba7f76-efca-442a-d3f3-78a0d28546cf"
      },
      "execution_count": 7,
      "outputs": [
        {
          "output_type": "stream",
          "name": "stdout",
          "text": [
            "Faixa etária 18-30: 11\n",
            "Faixa etária 31-45: 18\n",
            "Faixa etária 46-60: 12\n",
            "Faixa etária mais de 60: 59\n"
          ]
        }
      ]
    },
    {
      "cell_type": "code",
      "source": [
        "values, idx = np.unique(np.sort(estado_civil), return_index = True)\n",
        "premio_ordenado_por_estado_civil = premio[estado_civil.argsort()]\n",
        "premio_por_estado_civil = np.split(premio_ordenado_por_estado_civil, idx[1:])"
      ],
      "metadata": {
        "id": "cJaAlOLsyNHu"
      },
      "execution_count": 8,
      "outputs": []
    },
    {
      "cell_type": "code",
      "source": [
        "for value, premio_estado in zip(values, premio_por_estado_civil):\n",
        "    print(f\"{value}: R$ {premio_estado.mean():.2f}\")"
      ],
      "metadata": {
        "colab": {
          "base_uri": "https://localhost:8080/"
        },
        "id": "k6Qhx_i0yzT3",
        "outputId": "1cc9460e-cbd0-4d27-e1b4-210a56a4d57a"
      },
      "execution_count": 9,
      "outputs": [
        {
          "output_type": "stream",
          "name": "stdout",
          "text": [
            "casado: R$ 3519.42\n",
            "divorciado: R$ 5437.75\n",
            "solteiro: R$ 2708.31\n",
            "viuvo: R$ 85131.31\n"
          ]
        }
      ]
    },
    {
      "cell_type": "code",
      "source": [
        "id[premio > premio.mean()]"
      ],
      "metadata": {
        "colab": {
          "base_uri": "https://localhost:8080/"
        },
        "id": "SdvZCFJNhDOy",
        "outputId": "6f2547d9-0d93-43ff-f98e-26fd1627aadb"
      },
      "execution_count": 10,
      "outputs": [
        {
          "output_type": "execute_result",
          "data": {
            "text/plain": [
              "array([23, 26, 30, 75, 96])"
            ]
          },
          "metadata": {},
          "execution_count": 10
        }
      ]
    }
  ]
}